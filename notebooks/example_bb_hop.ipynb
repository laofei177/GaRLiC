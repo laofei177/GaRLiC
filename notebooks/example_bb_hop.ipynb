{
 "cells": [
  {
   "cell_type": "markdown",
   "metadata": {},
   "source": [
    "# Notebook that demonstrates Bayesian blocks and HOP algorithm"
   ]
  },
  {
   "cell_type": "code",
   "execution_count": 1,
   "metadata": {},
   "outputs": [],
   "source": [
    "import numpy as np\n",
    "from scipy import stats\n",
    "from fermiAnalysis import bblocks, hop\n",
    "import matplotlib.pyplot as plt"
   ]
  },
  {
   "cell_type": "code",
   "execution_count": 2,
   "metadata": {
    "collapsed": true
   },
   "outputs": [],
   "source": [
    "%matplotlib inline"
   ]
  },
  {
   "cell_type": "markdown",
   "metadata": {},
   "source": [
    "## Create some fake data"
   ]
  },
  {
   "cell_type": "code",
   "execution_count": 66,
   "metadata": {},
   "outputs": [],
   "source": [
    "nuniform = 1e4\n",
    "uniform_min = -20\n",
    "uniform_max = 20\n",
    "\n",
    "np.random.seed(0)\n",
    "x = np.concatenate([stats.uniform(loc = -20,scale = uniform_max - uniform_min).rvs(int(nuniform)),\n",
    "                     stats.cauchy(-5, 1.8).rvs(500),\n",
    "                    stats.cauchy(-4, 0.8).rvs(2000),\n",
    "                    stats.cauchy(-1, 0.3).rvs(500),\n",
    "                    stats.cauchy(2, 0.8).rvs(1000),\n",
    "                    stats.cauchy(4, 1.5).rvs(500)])\n",
    "\n",
    "\n",
    "# truncate values to a reasonable range\n",
    "x = x[(x > -15) & (x < 15)]"
   ]
  },
  {
   "cell_type": "code",
   "execution_count": 81,
   "metadata": {},
   "outputs": [
    {
     "data": {
      "text/plain": [
       "<matplotlib.lines.Line2D at 0x7fa96e071910>"
      ]
     },
     "execution_count": 81,
     "metadata": {},
     "output_type": "execute_result"
    },
    {
     "data": {
      "image/png": "[encoded data removed]",
      "text/plain": [
       "<Figure size 432x288 with 1 Axes>"
      ]
     },
     "metadata": {},
     "output_type": "display_data"
    }
   ],
   "source": [
    "n, bins, patches = plt.hist(x, bins=100, density = True)\n",
    "db = np.diff(bins)\n",
    "\n",
    "plt.axhline(nuniform * db[0] / (uniform_max - uniform_min) / n.sum() / db[0],\n",
    "            ls = '--', lw = 1, color = plt.cm.Set1(0.))"
   ]
  },
  {
   "cell_type": "code",
   "execution_count": 68,
   "metadata": {},
   "outputs": [
    {
     "data": {
      "text/plain": [
       "15706.631617225437"
      ]
     },
     "execution_count": 68,
     "metadata": {},
     "output_type": "execute_result"
    }
   ],
   "source": [
    "n.mean() / db[0] * (uniform_max - uniform_min)"
   ]
  },
  {
   "cell_type": "code",
   "execution_count": 71,
   "metadata": {
    "collapsed": true
   },
   "outputs": [],
   "source": [
    "nobs = stats.poisson.rvs(n)\n",
    "nerr = np.sqrt(nobs)\n",
    "\n",
    "#nobs = stats.norm.rvs(n)\n",
    "#nerr = np.sqrt(nobs)"
   ]
  },
  {
   "cell_type": "code",
   "execution_count": 72,
   "metadata": {},
   "outputs": [
    {
     "data": {
      "text/plain": [
       "<ErrorbarContainer object of 3 artists>"
      ]
     },
     "execution_count": 72,
     "metadata": {},
     "output_type": "execute_result"
    },
    {
     "data": {
      "image/png": "[encoded data removed]",
      "text/plain": [
       "<Figure size 432x288 with 1 Axes>"
      ]
     },
     "metadata": {},
     "output_type": "display_data"
    }
   ],
   "source": [
    "plt.errorbar(0.5 * (bins[1:] + bins[:-1]), \n",
    "             nobs, yerr = nerr, \n",
    "             xerr = np.diff(bins) / 2.,\n",
    "             ls = 'None', marker = '.')"
   ]
  },
  {
   "cell_type": "markdown",
   "metadata": {},
   "source": [
    "### Get the Bayesian blocks for a point like measurement"
   ]
  },
  {
   "cell_type": "code",
   "execution_count": 73,
   "metadata": {
    "collapsed": true
   },
   "outputs": [],
   "source": [
    "mask = nobs > 0.\n",
    "\n",
    "# get block IDs and average flux\n",
    "bbf, avg = bblocks.binbblock(widths = np.diff(bins)[mask], \n",
    "            counts = nobs[mask], errs= nerr[mask], datatype= 'point')"
   ]
  },
  {
   "cell_type": "code",
   "execution_count": 74,
   "metadata": {},
   "outputs": [
    {
     "data": {
      "text/plain": [
       "<matplotlib.legend.Legend at 0x7fa96e8450d0>"
      ]
     },
     "execution_count": 74,
     "metadata": {},
     "output_type": "execute_result"
    },
    {
     "data": {
      "image/png": "[encoded data removed]",
      "text/plain": [
       "<Figure size 432x288 with 1 Axes>"
      ]
     },
     "metadata": {},
     "output_type": "display_data"
    }
   ],
   "source": [
    "plt.errorbar(0.5 * (bins[1:] + bins[:-1]), \n",
    "             nobs, yerr = nerr, \n",
    "             xerr = np.diff(bins) / 2.,\n",
    "             ls = 'None', marker = '.', label = 'Data')\n",
    "\n",
    "plt.plot(\n",
    "    np.concatenate([bins[:-1][mask][bbf],[bins[1:][-1]]]),\n",
    "    np.concatenate([avg,[avg[-1]]]),\n",
    "    marker = 'None', drawstyle = 'steps-post',\n",
    "    label = 'Bayesian blocks, $N_\\mathrm{{Blocks}} = {0:n}$'.format(bbf.size))\n",
    "\n",
    "plt.legend(loc = 0)"
   ]
  },
  {
   "cell_type": "markdown",
   "metadata": {},
   "source": [
    "### Calculate the 'water sheds'"
   ]
  },
  {
   "cell_type": "markdown",
   "metadata": {},
   "source": [
    "The last vector ```id_sheds``` contains the indices for the bayesian block in each water shed"
   ]
  },
  {
   "cell_type": "code",
   "execution_count": 75,
   "metadata": {
    "collapsed": true
   },
   "outputs": [],
   "source": [
    "id_peaks_vec,id_hop_work, id_sheds = hop.hop(avg)"
   ]
  },
  {
   "cell_type": "code",
   "execution_count": 76,
   "metadata": {},
   "outputs": [
    {
     "data": {
      "text/plain": [
       "<matplotlib.legend.Legend at 0x7fa96e778450>"
      ]
     },
     "execution_count": 76,
     "metadata": {},
     "output_type": "execute_result"
    },
    {
     "data": {
      "image/png": "[encoded data removed]",
      "text/plain": [
       "<Figure size 432x288 with 1 Axes>"
      ]
     },
     "metadata": {},
     "output_type": "display_data"
    }
   ],
   "source": [
    "plt.errorbar(0.5 * (bins[1:] + bins[:-1]), \n",
    "             nobs, yerr = nerr, \n",
    "             xerr = np.diff(bins) / 2.,\n",
    "             ls = 'None', marker = '.', label = 'Data')\n",
    "\n",
    "plt.plot(\n",
    "    np.concatenate([bins[:-1][mask][bbf],[bins[1:][-1]]]),\n",
    "    np.concatenate([avg,[avg[-1]]]),\n",
    "    marker = 'None', drawstyle = 'steps-post',\n",
    "    label = 'Bayesian blocks, $N_\\mathrm{{Blocks}} = {0:n}$'.format(bbf.size))\n",
    "\n",
    "hop.plot_sheds(xmin=bins[:-1][mask],\n",
    "              xmax = bins[1:][mask],\n",
    "              id_sheds = id_sheds,\n",
    "              y = avg, bbf = bbf)\n",
    "\n",
    "plt.legend(loc = 0)"
   ]
  },
  {
   "cell_type": "code",
   "execution_count": null,
   "metadata": {
    "collapsed": true
   },
   "outputs": [],
   "source": []
  }
 ],
 "metadata": {
  "kernelspec": {
   "display_name": "Python 2",
   "language": "python",
   "name": "python2"
  },
  "language_info": {
   "codemirror_mode": {
    "name": "ipython",
    "version": 2
   },
   "file_extension": ".py",
   "mimetype": "text/x-python",
   "name": "python",
   "nbconvert_exporter": "python",
   "pygments_lexer": "ipython2",
   "version": "2.7.14"
  }
 },
 "nbformat": 4,
 "nbformat_minor": 2
}
